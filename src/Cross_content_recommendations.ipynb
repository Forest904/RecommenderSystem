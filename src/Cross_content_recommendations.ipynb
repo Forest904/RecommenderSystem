{
 "cells": [
  {
   "cell_type": "markdown",
   "metadata": {},
   "source": [
    "To start, here's several helpful packages to load"
   ]
  },
  {
   "cell_type": "code",
   "execution_count": 19,
   "metadata": {},
   "outputs": [],
   "source": [
    "#Useful libraries\n",
    "import pandas as pd\n",
    "import re\n",
    "import nltk\n",
    "from nltk.corpus import stopwords\n",
    "from nltk.stem import PorterStemmer\n",
    "import matplotlib.pyplot as plt\n",
    "from sklearn.feature_extraction.text import TfidfVectorizer\n",
    "from sklearn.metrics.pairwise import cosine_similarity\n",
    "from sklearn.model_selection import train_test_split\n",
    "from sklearn.metrics import mean_squared_error\n",
    "from sklearn.metrics import precision_score, recall_score, f1_score, accuracy_score\n"
   ]
  },
  {
   "cell_type": "code",
   "execution_count": 20,
   "metadata": {},
   "outputs": [],
   "source": [
    "#Importing datasets\n",
    "#Books\n",
    "books_file = 'datasets/books_rs/books.csv'\n",
    "df_books = pd.read_csv(books_file)\n",
    "\n",
    "#Movies\n",
    "movies_file = 'datasets/books_rs/movies.csv'\n",
    "df_movies = pd.read_csv(movies_file)"
   ]
  },
  {
   "cell_type": "markdown",
   "metadata": {},
   "source": [
    "3. Data Preprocessing. \n",
    "Let's make the two datasets omogeneus.  First reordering.\n",
    "Now we separate the ratings from the actual content, before removing the unnecessary attributes."
   ]
  },
  {
   "cell_type": "code",
   "execution_count": 21,
   "metadata": {},
   "outputs": [],
   "source": [
    "#Add a column to identify the type of content\n",
    "df_books['content_type'] = 'book' \n",
    "df_movies['content_type'] = 'movie'\n",
    "\n",
    "#Save separated ratings and content dataframes for books and movies\n",
    "df_books_ratings = df_books[['Title', 'Vote Count', 'Vote Average']]\n",
    "df_books_content = df_books.drop(['Vote Count', 'Vote Average'], axis=1, errors='ignore')\n",
    "\n",
    "df_movies_ratings = df_movies[['Title', 'Vote Count', 'Vote Average']]\n",
    "df_movies_content = df_movies.drop(['Vote Count', 'Vote Average'], axis=1, errors='ignore')"
   ]
  },
  {
   "cell_type": "markdown",
   "metadata": {},
   "source": [
    "4. Combining Datasets. \n",
    "Merge the books and movies datasets into single DataFrames for content and ratings.\n"
   ]
  },
  {
   "cell_type": "code",
   "execution_count": 22,
   "metadata": {},
   "outputs": [],
   "source": [
    "cross_content = pd.concat([df_books_content, df_movies_content], ignore_index=True)\n",
    "cross_rating = pd.concat([df_books_ratings, df_movies_ratings], ignore_index=True)\n",
    "#print(\"df_books_content dimensions:\", df_books_content.shape)\n",
    "#print(\"df_movies_content dimensions:\", df_movies_content.shape)\n",
    "#print(\"cross_content dimensions:\", cross_content.shape)\n",
    "\n",
    "title_type_df = cross_content[['Title', 'content_type']]"
   ]
  },
  {
   "cell_type": "markdown",
   "metadata": {},
   "source": [
    "5. Processing Categories. \n",
    "Convert the 'categories' string into a list of categories for each item."
   ]
  },
  {
   "cell_type": "code",
   "execution_count": 23,
   "metadata": {},
   "outputs": [],
   "source": [
    "# Process 'categories' field into a list before creating 'tags'\n",
    "def process_categories(categories_str):\n",
    "    if pd.isnull(categories_str):\n",
    "        return []\n",
    "    \n",
    "    # Check if the input is a string and parse it if needed\n",
    "    if isinstance(categories_str, str):\n",
    "        if categories_str.startswith('[') and categories_str.endswith(']'):\n",
    "            import ast\n",
    "            try:\n",
    "                categories = ast.literal_eval(categories_str)\n",
    "                if isinstance(categories, list):\n",
    "                    return [str(cat).strip().lower() for cat in categories]\n",
    "            except (ValueError, SyntaxError):\n",
    "                pass\n",
    "        # Use regex to split strings by common delimiters\n",
    "        return [cat.strip().lower() for cat in re.split(r'[;,]', categories_str)]\n",
    "    \n",
    "    # If already a list, flatten it in one step\n",
    "    if isinstance(categories_str, list):\n",
    "        return [str(item).strip().lower() for sublist in categories_str for item in (sublist if isinstance(sublist, list) else [sublist])]\n",
    "    \n",
    "    return []\n",
    "\n",
    "# Apply the optimized function\n",
    "cross_content['categories_list'] = cross_content['Genres'].map(process_categories)"
   ]
  },
  {
   "cell_type": "markdown",
   "metadata": {},
   "source": [
    "6. Text Preprocessing. \n",
    "a. Ensure 'categories_list' is a flat list of strings without nested lists."
   ]
  },
  {
   "cell_type": "code",
   "execution_count": 24,
   "metadata": {},
   "outputs": [],
   "source": [
    "# Use a single list comprehension to flatten categories\n",
    "def flatten_categories(categories):\n",
    "    return [str(item) for sublist in categories for item in (sublist if isinstance(sublist, list) else [sublist])]\n",
    "\n",
    "# Apply the optimized function\n",
    "cross_content['categories_list'] = cross_content['categories_list'].map(flatten_categories)\n"
   ]
  },
  {
   "cell_type": "markdown",
   "metadata": {},
   "source": [
    "b. Now we condense all the non title attributes in one TAGS column."
   ]
  },
  {
   "cell_type": "code",
   "execution_count": 25,
   "metadata": {},
   "outputs": [],
   "source": [
    "# Use vectorized operations to create 'tags'\n",
    "cross_content['tags'] = cross_content[['Author', 'Plot', 'content_type']].fillna('').agg('; '.join, axis=1)\n"
   ]
  },
  {
   "cell_type": "markdown",
   "metadata": {},
   "source": [
    "c. Now we apply preprocessing to clean the tags column to remove all non essential caracteristics to clean and standardize text data for better performance."
   ]
  },
  {
   "cell_type": "code",
   "execution_count": 26,
   "metadata": {},
   "outputs": [
    {
     "name": "stderr",
     "output_type": "stream",
     "text": [
      "[nltk_data] Downloading package stopwords to\n",
      "[nltk_data]     C:\\Users\\lucap\\AppData\\Roaming\\nltk_data...\n",
      "[nltk_data]   Package stopwords is already up-to-date!\n"
     ]
    }
   ],
   "source": [
    "# Download stop words if running for the first time!!!\n",
    "if 'stopwords' not in nltk.corpus.__dict__:\n",
    "    nltk.download('stopwords')\n",
    "\n",
    "def preprocess_text(text):\n",
    "    # 1. Lowercase\n",
    "    text = text.lower()\n",
    "    \n",
    "    # 2. Remove punctuation\n",
    "    text = re.sub(r'[^\\w\\s]', '', text)\n",
    "    \n",
    "    # 3. Remove stop words\n",
    "    stop_words = set(stopwords.words('english'))\n",
    "    words = text.split()\n",
    "    words = [word for word in words if word not in stop_words]\n",
    "    \n",
    "    # 4. Stemming\n",
    "    stemmer = PorterStemmer()\n",
    "    words = [stemmer.stem(word) for word in words]\n",
    "    \n",
    "    # Join words back to a single string\n",
    "    return ' '.join(words)"
   ]
  },
  {
   "cell_type": "markdown",
   "metadata": {},
   "source": [
    "d. Combining 'tags' and 'categories_list'"
   ]
  },
  {
   "cell_type": "code",
   "execution_count": 27,
   "metadata": {},
   "outputs": [],
   "source": [
    "# Preprocess 'tags' and 'categories_list'\n",
    "cross_content['tags'] = cross_content['tags'].apply(preprocess_text)\n",
    "cross_content['categories_list'] = cross_content['categories_list'].apply(lambda x: [preprocess_text(cat) for cat in x])\n",
    "\n",
    "# Vectorized combination of 'tags' and 'categories_list'\n",
    "cross_content['combined_tags'] = (\n",
    "    cross_content['tags'] + ' ' + cross_content['categories_list'].map(' '.join)\n",
    ")"
   ]
  },
  {
   "cell_type": "markdown",
   "metadata": {},
   "source": [
    "e. Before splitting the data, we need to ensure that each item in cross_content has its corresponding average_rating for prediction and evaluation."
   ]
  },
  {
   "cell_type": "code",
   "execution_count": 28,
   "metadata": {},
   "outputs": [],
   "source": [
    "# Merge 'average_rating' into 'cross_content' for prediction\n",
    "cross_content = cross_content.merge(cross_rating[['Title', 'Vote Average']], on='Title', how='left')"
   ]
  },
  {
   "cell_type": "markdown",
   "metadata": {},
   "source": [
    "Now the cross_content dataframe is clean with a title key and a tags string rappresentative of the content. "
   ]
  },
  {
   "cell_type": "markdown",
   "metadata": {},
   "source": [
    "7. Splitting Data.\n",
    "Divide the data into training and testing sets to evaluate the recommendation system."
   ]
  },
  {
   "cell_type": "code",
   "execution_count": 29,
   "metadata": {},
   "outputs": [],
   "source": [
    "# Split the dataset into training and testing sets\n",
    "X_cross_train, X_cross_test = train_test_split(cross_content, test_size=0.2, random_state=42)\n",
    "train_indices = X_cross_train.index\n",
    "test_indices = X_cross_test.index"
   ]
  },
  {
   "cell_type": "markdown",
   "metadata": {},
   "source": [
    "8. TF-IDF vectorization.\n",
    "Convert textual data into numerical vectors using TF-IDF for similarity calculations."
   ]
  },
  {
   "cell_type": "code",
   "execution_count": 30,
   "metadata": {},
   "outputs": [],
   "source": [
    "tf = TfidfVectorizer(analyzer='word', ngram_range=(1, 3), min_df=0.0)\n",
    "tfidf_matrix = tf.fit_transform(cross_content['tags'])\n",
    "\n",
    "# Get TF-IDF vectors for training and test sets\n",
    "train_tfidf_matrix = tfidf_matrix[train_indices]\n",
    "test_tfidf_matrix = tfidf_matrix[test_indices]"
   ]
  },
  {
   "cell_type": "markdown",
   "metadata": {},
   "source": [
    "9. Computing Cosine Similarities.\n",
    "Calculate the similarity between each test item and all training items."
   ]
  },
  {
   "cell_type": "code",
   "execution_count": 31,
   "metadata": {},
   "outputs": [],
   "source": [
    "cosine_sim_test_train = cosine_similarity(test_tfidf_matrix, train_tfidf_matrix)\n",
    "\n",
    "# Convert indices to numpy arrays for indexing\n",
    "train_indices_array = train_indices.to_numpy()\n",
    "test_indices_array = test_indices.to_numpy()"
   ]
  },
  {
   "cell_type": "markdown",
   "metadata": {},
   "source": [
    "10. Evaluation Metrics.\n",
    "\n",
    "Evaluate the performance of the recommender system using standard metrics.\n",
    "    Initialize (TP), (FP), (FN), (TN).\n",
    "    Loop through each test item:\n",
    "    Retrieve the test item's categories, skipping items without categories.\n",
    "    Compute similarity scores to all training items.\n",
    "    Select top k recommended items.\n",
    "    For each recommended item, check if it shares categories with the test item.\n",
    "    Update TP and FP counts accordingly.\n",
    "    Calculate FN and TN based on the total number of relevant and non-relevant items.\n",
    "    After processing all test items, compute Precision, Recall, Accuracy, and F1 Score."
   ]
  },
  {
   "cell_type": "code",
   "execution_count": 32,
   "metadata": {},
   "outputs": [],
   "source": [
    "k = 10  # Number of similar contents to recommend\n",
    "\n",
    "# Initialize lists to store actual and predicted ratings\n",
    "actual_ratings = []\n",
    "predicted_ratings = []\n",
    "\n",
    "num_train_items = len(train_indices)\n",
    "num_test_items = len(test_indices)\n",
    "\n",
    "# Note: Total TN is typically not used in recommender systems due to the vast number of non-relevant items\n",
    "\n",
    "for i, test_idx in enumerate(test_indices_array):\n",
    "    # Get the test item\n",
    "    test_item = cross_content.loc[test_idx]\n",
    "    test_title = test_item['Title']\n",
    "    test_actual_rating = test_item['Vote Average']\n",
    "    test_categories = set(flatten_categories(test_item['categories_list']))\n",
    "\n",
    "    # Skip items with no categories or missing ratings\n",
    "    if not test_categories or pd.isnull(test_actual_rating):\n",
    "        continue\n",
    "\n",
    "    # Get the similarity scores to training items\n",
    "    sim_scores = cosine_sim_test_train[i]\n",
    "\n",
    "    # Get the top k indices in training set\n",
    "    sim_scores_indices = sim_scores.argsort()[::-1]\n",
    "    top_k_indices_in_train = sim_scores_indices[:k]\n",
    "    top_k_train_indices = train_indices_array[top_k_indices_in_train]\n",
    "\n",
    "    # Get similarities and ratings of the top k items\n",
    "    top_k_similarities = sim_scores[top_k_indices_in_train]\n",
    "    top_k_ratings = cross_content.loc[top_k_train_indices]['Vote Average'].values\n",
    "\n",
    "    # Handle the case where similarities sum to zero\n",
    "    if top_k_similarities.sum() == 0:\n",
    "        predicted_rating = top_k_ratings.mean()\n",
    "    else:\n",
    "        # Weighted average of ratings\n",
    "        predicted_rating = (top_k_similarities @ top_k_ratings) / top_k_similarities.sum()\n",
    "\n",
    "    # Append to lists\n",
    "    actual_ratings.append(test_actual_rating)\n",
    "    predicted_ratings.append(predicted_rating)\n",
    "\n",
    "    # For evaluation metrics based on categories\n",
    "    # Get recommended items and their categories\n",
    "    recommended_items = cross_content.loc[top_k_train_indices]\n",
    "    recommended_categories = recommended_items['categories_list'].tolist()\n",
    "    recommended_categories_flat = [set(flatten_categories(cats)) for cats in recommended_categories]"
   ]
  },
  {
   "cell_type": "markdown",
   "metadata": {},
   "source": [
    "11. Computing metrics.\n",
    "After processing all test items, we compute the overall metrics.\n",
    "Precision: Proportion of recommended items that are relevant.\n",
    "Recall: Proportion of relevant items that are recommended.\n",
    "F1 Score: Harmonic mean of Precision and Recall.\n",
    "Mean Squared Error (MSE): Measures the average squared difference between actual and predicted ratings.\n",
    "Root Mean Squared Error (RMSE): Square root of MSE, providing error in the same units as the ratings."
   ]
  },
  {
   "cell_type": "code",
   "execution_count": 33,
   "metadata": {},
   "outputs": [],
   "source": [
    "#Useing sklearn to calculate metrics\n",
    "threshold = 5\n",
    "actual_binary = [1 if rating > threshold else 0 for rating in actual_ratings]\n",
    "predicted_binary = [1 if rating > threshold else 0 for rating in predicted_ratings]\n",
    "\n",
    "# Compute metrics\n",
    "precision = precision_score(actual_binary, predicted_binary)\n",
    "recall = recall_score(actual_binary, predicted_binary)\n",
    "f1 = f1_score(actual_binary, predicted_binary)\n",
    "accuracy = accuracy_score(actual_binary, predicted_binary)\n",
    "# Compute Mean Squared Error\n",
    "mse = mean_squared_error(actual_ratings, predicted_ratings)\n",
    "# Compute Root Mean Squared Error\n",
    "rmse = mse ** 0.5"
   ]
  },
  {
   "cell_type": "markdown",
   "metadata": {},
   "source": [
    "12. Recommendation Function.\n",
    "\n",
    "Try to find the index of the item with the specified title.\n",
    "Compute cosine similarity between the item's TF-IDF vector and all items.\n",
    "Sort the similarity scores in descending order.\n",
    "Exclude the item itself from recommendations.\n",
    "Retrieve the titles of the top k recommended items."
   ]
  },
  {
   "cell_type": "code",
   "execution_count": 34,
   "metadata": {},
   "outputs": [],
   "source": [
    "# Function to get recommendations for a content title\n",
    "def get_recommendations(content_title, k):\n",
    "    # Get the index of the content with the given title\n",
    "    try:\n",
    "        content_index = cross_content[cross_content['Title'] == content_title].index[0]\n",
    "    except IndexError:\n",
    "        print(f\"Content titled '{content_title}' not found.\")\n",
    "        return []\n",
    "\n",
    "    # Get the similarity scores for the content_index\n",
    "    # Compute cosine similarity between the content and all contents\n",
    "    sim_scores = cosine_similarity(tfidf_matrix[content_index], tfidf_matrix).flatten()\n",
    "\n",
    "    # Sort the similarity scores in descending order\n",
    "    sim_scores_indices = sim_scores.argsort()[::-1]\n",
    "\n",
    "    # Get the indices of the top k+1 similar contents (excluding the content itself)\n",
    "    top_indices = [i for i in sim_scores_indices if i != content_index][:k]\n",
    "\n",
    "    # Get the titles of the recommended contents\n",
    "    recommended_titles = cross_content.iloc[top_indices]['Title'].tolist()\n",
    "\n",
    "    return recommended_titles"
   ]
  },
  {
   "cell_type": "markdown",
   "metadata": {},
   "source": [
    "13. Printing Recommendations.\n",
    "Generate and display recommendations for a specific content title. Sort the recommendations based on 'average_rating' and 'ratings_count' for better results\n"
   ]
  },
  {
   "cell_type": "code",
   "execution_count": 35,
   "metadata": {},
   "outputs": [
    {
     "name": "stdout",
     "output_type": "stream",
     "text": [
      "Spider-Man: Far From Home (Movie)\n",
      "Extraction 2 (Movie)\n",
      "Kingsman: The Golden Circle (Movie)\n",
      "Heart of Stone (Movie)\n",
      "Mission: Impossible III (Movie)\n",
      "Sniper: G.R.I.T. - Global Response & Intelligence Team (Movie)\n",
      "Night at the Museum: Secret of the Tomb (Movie)\n",
      "Allegiant (Movie)\n",
      "Independence Day: Resurgence (Movie)\n",
      "Marvel Studios Assembled: The Making of Secret Invasion (Movie)\n"
     ]
    }
   ],
   "source": [
    "\n",
    "content_title = \"The Avengers\"\n",
    "recommendations = get_recommendations(content_title, k)\n",
    "\n",
    "def print_content_type(titles):\n",
    "    for title in titles:\n",
    "        content_type_row = title_type_df[title_type_df['Title'] == title]\n",
    "        if not content_type_row.empty:\n",
    "            content_type = content_type_row['content_type'].values[0]\n",
    "            if content_type == 'book':\n",
    "                print(f\"{title} (Book)\")\n",
    "            elif content_type == 'movie':\n",
    "                print(f\"{title} (Movie)\")\n",
    "            else:\n",
    "                print(f\"{title} (Unknown Content Type)\")\n",
    "        else:\n",
    "            print(f\"{title} (Content Type Not Found)\")\n",
    "\n",
    "\n",
    "sorted_recommendations = cross_rating[cross_rating['Title'].isin(recommendations)].sort_values(['Vote Average', 'Vote Count'], ascending=[False, False])['Title'].tolist()\n",
    "print_content_type(sorted_recommendations)\n"
   ]
  },
  {
   "cell_type": "markdown",
   "metadata": {},
   "source": [
    "14. Printing validation metrics. "
   ]
  },
  {
   "cell_type": "code",
   "execution_count": 36,
   "metadata": {},
   "outputs": [
    {
     "name": "stdout",
     "output_type": "stream",
     "text": [
      "Accuracy: 0.9455\n",
      "Precision: 0.9509\n",
      "F1 Score: 0.9719\n",
      "Recall: 0.9938\n",
      "Mean Squared Error: 1.6450\n",
      "Root Mean Squared Error: 1.2826\n"
     ]
    },
    {
     "data": {
      "image/png": "[encoded data removed]",
      "text/plain": [
       "<Figure size 640x480 with 1 Axes>"
      ]
     },
     "metadata": {},
     "output_type": "display_data"
    }
   ],
   "source": [
    "#Valuation of the recommender system\n",
    "print(f\"Accuracy: {accuracy:.4f}\")\n",
    "print(f\"Precision: {precision:.4f}\")\n",
    "print(f\"F1 Score: {f1:.4f}\")\n",
    "print(f\"Recall: {recall:.4f}\")\n",
    "print(f\"Mean Squared Error: {mse:.4f}\")\n",
    "print(f\"Root Mean Squared Error: {rmse:.4f}\")\n",
    "\n",
    "\n",
    "metrics = ['accuracy', 'precision', 'f1', 'recall', 'mse', 'rmse']\n",
    "values = [accuracy, precision, f1, recall, mse, rmse]\n",
    "\n",
    "plt.bar(metrics, values)\n",
    "plt.xlabel('Metrics')\n",
    "plt.ylabel('Values')\n",
    "plt.title('Metrics Plot')\n",
    "plt.show()\n",
    "\n",
    "\n"
   ]
  }
 ],
 "metadata": {
  "kernelspec": {
   "display_name": ".venv",
   "language": "python",
   "name": "python3"
  },
  "language_info": {
   "codemirror_mode": {
    "name": "ipython",
    "version": 3
   },
   "file_extension": ".py",
   "mimetype": "text/x-python",
   "name": "python",
   "nbconvert_exporter": "python",
   "pygments_lexer": "ipython3",
   "version": "3.11.8"
  }
 },
 "nbformat": 4,
 "nbformat_minor": 2
}
